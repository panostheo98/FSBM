{
 "cells": [
  {
   "cell_type": "code",
   "execution_count": null,
   "id": "aed586bd879a9dcd",
   "metadata": {
    "collapsed": true
   },
   "outputs": [],
   "source": [
    "import gdown\n",
    "import os\n",
    "\n",
    "if not os.path.isdir('../data'):\n",
    "    os.makedirs('../data')\n",
    "\n",
    "# Download the latent vectors and the keypoint trajectories for the semi-supervised image translations\n",
    "urls = {\n",
    "    \"../data/age.npy\": \"https://drive.google.com/uc?id=1Vi6NzxCsS23GBNq48E-97Z9UuIuNaxPJ\",\n",
    "    \"../data/gender.npy\": \"https://drive.google.com/uc?id=1SEdsmQGL3mOok1CPTBEfc_O1750fGRtf\",\n",
    "    \"../data/latents.npy\": \"https://drive.google.com/uc?id=1ENhiTRsHtSjIjoRu1xYprcpNd8M9aVu8\",\n",
    "    \"../data/kp_traj_ffhq_gen.pt\":\"https://drive.google.com/uc?id=1TYL-nYyuW7nFoLWkPbu-XjvHQ7icppRC\",\n",
    "    \"../data/kp_traj_ffhq_age.pt\":\"https://drive.google.com/uc?id=1eYsjQIVlbb_DRWvjG2HuwEQBCQLooyv2\",\n",
    "}\n",
    "\n",
    "for name, url in urls.items():\n",
    "    gdown.download(url, os.path.join(f\"{name}\"), quiet=False)\n",
    "    \n",
    " "
   ]
  },
  {
   "metadata": {},
   "cell_type": "code",
   "outputs": [],
   "execution_count": null,
   "source": [
    "# Download ALAE checkpoints\n",
    "gdown.download(\n",
    "    id='1BOiXw99P6HrMW0deeUT7c_16P_u3x8zu', \n",
    "    output='model_194.pth'\n",
    ")\n",
    "\n",
    "gdown.download(\n",
    "    id='1q5oS612cdTQxNLHF0TpF0RdMIfo2oHMa', \n",
    "    output='model_157.pth'\n",
    ")"
   ],
   "id": "initial_id"
  }
 ],
 "metadata": {
  "kernelspec": {
   "display_name": "Python 3",
   "language": "python",
   "name": "python3"
  },
  "language_info": {
   "codemirror_mode": {
    "name": "ipython",
    "version": 2
   },
   "file_extension": ".py",
   "mimetype": "text/x-python",
   "name": "python",
   "nbconvert_exporter": "python",
   "pygments_lexer": "ipython2",
   "version": "2.7.6"
  }
 },
 "nbformat": 4,
 "nbformat_minor": 5
}
